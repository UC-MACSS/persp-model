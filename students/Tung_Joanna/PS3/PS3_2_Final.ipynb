{
 "cells": [
  {
   "cell_type": "code",
   "execution_count": 3,
   "metadata": {
    "collapsed": false
   },
   "outputs": [],
   "source": [
    "# Import packages and load the data\n",
    "import numpy as np\n",
    "import numpy.linalg as lin\n",
    "import pandas as pd\n",
    "import scipy.stats as sts\n",
    "import scipy.integrate as intgr\n",
    "import scipy.optimize as opt\n",
    "import matplotlib\n",
    "import matplotlib.pyplot as plt\n",
    "\n",
    "# This next command is specifically for Jupyter Notebook\n",
    "%matplotlib notebook\n",
    "\n",
    "df = pd.read_csv('sick.txt', skiprows = [0], names = ['sick', 'age', 'children', 'avgtemp_winter'])"
   ]
  },
  {
   "cell_type": "code",
   "execution_count": 33,
   "metadata": {
    "collapsed": false
   },
   "outputs": [
    {
     "name": "stdout",
     "output_type": "stream",
     "text": [
      "57.47\n",
      "[  1.67  57.47   3.04  54.1 ]\n"
     ]
    },
    {
     "data": {
      "text/plain": [
       "array([ 57.47,  26.77,  41.85,  51.27,  44.22,  44.67,  27.92,  44.87,\n",
       "        53.68,  39.63,  44.73,  41.05,  30.44,  37.77,  30.46,  46.54,\n",
       "        51.92,  15.46,  59.02,  45.63,  42.65,  28.09,  35.63,  54.79,\n",
       "        42.76,  38.5 ,  36.14,  20.16,  40.3 ,  55.48,  46.37,  52.69,\n",
       "        55.31,  52.21,  38.91,  26.21,  42.66,  37.89,  46.45,  38.49,\n",
       "        41.43,  32.41,  48.77,  33.9 ,  48.81,  74.89,  36.7 ,  44.9 ,\n",
       "        54.07,  44.15,  47.06,  41.47,  63.36,  61.14,  50.63,  43.83,\n",
       "        35.15,  48.5 ,  45.68,  17.01,  56.44,  51.19,  43.76,  34.55,\n",
       "        28.41,  21.15,  51.08,  54.8 ,  24.01,  43.18,  46.43,  37.01,\n",
       "        37.91,  37.58,  28.65,  38.59,  34.36,  24.51,  65.  ,  49.24,\n",
       "        29.84,  24.98,  38.33,  30.11,  44.88,  52.1 ,  17.91,  42.38,\n",
       "        28.25,  31.12,  49.13,  37.03,  30.93,  31.4 ,  46.23,  40.97,\n",
       "        34.33,  40.98,  30.61,  22.64,  33.03,  44.19,  12.99,  20.63,\n",
       "        32.11,  25.34,  48.41,  48.2 ,  47.22,  34.1 ,  37.08,  49.81,\n",
       "        22.93,  42.89,  35.11,  34.87,  39.3 ,  42.18,  36.59,  54.23,\n",
       "        50.34,  45.18,  39.6 ,  46.24,  48.44,  44.9 ,  48.62,  36.38,\n",
       "        45.98,  56.46,  38.98,  19.89,  53.95,  35.  ,  46.26,  39.96,\n",
       "        41.59,  65.85,  26.61,  50.15,  24.59,  33.14,  55.72,  27.86,\n",
       "        21.47,  37.8 ,  58.02,  33.96,  60.78,  27.37,  52.97,  40.63,\n",
       "        54.26,  60.56,  41.13,  46.49,  41.05,  55.41,  66.74,  12.81,\n",
       "        13.23,  38.79,  41.54,  35.08,  29.46,  38.82,  36.19,  47.26,\n",
       "        59.76,  45.16,  38.19,  37.3 ,  37.87,  49.3 ,  41.26,  38.37,\n",
       "        26.04,  32.31,  34.83,  39.52,  44.98,  42.15,  50.62,  45.58,\n",
       "        40.81,  20.79,  28.55,  31.54,  47.6 ,  40.44,  40.94,  43.23,\n",
       "        61.08,  46.62,  53.63,  30.56,  33.97,  44.  ,  22.3 ,  39.83])"
      ]
     },
     "execution_count": 33,
     "metadata": {},
     "output_type": "execute_result"
    }
   ],
   "source": [
    "data_array = df.values\n",
    "print(data_array[0][1])\n",
    "print(data_array[0])\n",
    "\n",
    "data_array[:,1]"
   ]
  },
  {
   "cell_type": "code",
   "execution_count": 38,
   "metadata": {
    "collapsed": false
   },
   "outputs": [
    {
     "data": {
      "text/plain": [
       "53.539999999999999"
      ]
     },
     "execution_count": 38,
     "metadata": {},
     "output_type": "execute_result"
    }
   ],
   "source": [
    "sick_df = df['sick']\n",
    "sick_array = sick_df.values\n",
    "\n",
    "age_df = df['age']\n",
    "age_array = age_df.values\n",
    "\n",
    "children_df = df['children']\n",
    "children_array = children_df.values\n",
    "\n",
    "avgtemp_winter_df = df['avgtemp_winter']\n",
    "winterT_array = avgtemp_winter_df.values\n",
    "\n",
    "data_array.shape\n",
    "val = 2 * data_array[1,1]\n",
    "val"
   ]
  },
  {
   "cell_type": "code",
   "execution_count": 88,
   "metadata": {
    "collapsed": false
   },
   "outputs": [],
   "source": [
    "def model_moments(data, beta0, beta1, beta2, beta3):\n",
    "    mod_mom_array = np.ones(200,)\n",
    "    for x in range(200):\n",
    "        mod_mom_array[x,] = beta0 + beta1 * data[x,1] + beta2 * data[x,2] + beta3 * data[x,3] \n",
    "                \n",
    "    return mod_mom_array\n",
    "\n",
    "#mod_mom_array = model_moments(data_array, beta0, beta1, beta2, beta3)\n",
    "#dat_mom_array = data_array[:,0]\n",
    "\n",
    "#df['err'] = beta0 + beta1 * data_array[:,1] + beta2 * data_array[:,2] + beta3 * data_array[:,3] \n",
    "#print(df['err'])\n",
    "#print(mod_mom_array)"
   ]
  },
  {
   "cell_type": "code",
   "execution_count": 106,
   "metadata": {
    "collapsed": false
   },
   "outputs": [
    {
     "data": {
      "text/plain": [
       "array([  0.04,  10.46,  -7.24,   4.22,   4.67,  24.71,   3.12,   8.13,\n",
       "         2.69,  -0.59,  -1.77,  16.13,  11.43,  10.44,   4.79,  -0.33,\n",
       "        14.83,  16.88,  -0.54,  -1.27,   6.57,  17.04,  11.84,   3.92,\n",
       "         0.7 ,  14.44,  -3.  ,  10.49,  14.29,   0.91,   7.16,  -4.36,\n",
       "         5.22, -17.88,   3.19,   1.1 ,  -6.3 ,   6.12,  17.23,   4.31,\n",
       "         2.29, -10.58,   0.04,  16.98,   8.13, -28.33,  -6.91,  -1.04,\n",
       "        -8.  ,   0.06,   5.34,   9.06,  -7.  ,   4.56,   2.74,  -5.54,\n",
       "         9.56,  -5.76,   3.7 ,   8.63,  -3.43,   5.97,  10.89,  -4.08,\n",
       "        18.04,   4.41,  10.25,  -8.09,   0.92,  14.41,   4.36,   7.16,\n",
       "        -8.47,   9.73,   3.66,  -0.7 ,   7.17,  14.3 ,  -0.58,  -1.35,\n",
       "         6.4 ,   4.43,  14.27,  13.45,   5.23, -16.08,  21.89,  12.96,\n",
       "         3.41,  21.85,   1.93,  -6.23,  22.85,   1.28,  -6.68,  -7.7 ,\n",
       "         9.49,  -3.61,  -1.86,  17.11,   2.82,   9.55,  16.2 ,  18.32,\n",
       "         3.19,  23.94, -10.28,  -2.84,   1.58,  -4.89,  24.54,   0.7 ,\n",
       "         5.13,   3.55,   4.74,  22.33,   2.18,   8.88,  13.34,   7.13,\n",
       "        14.77,   9.84,  -8.91,   4.26,  -0.12,  -0.52,   3.92,   8.41,\n",
       "        -7.31, -16.84,  13.96,  24.87,   4.4 ,   0.33,  17.13,   4.04,\n",
       "        11.07,  -6.99,  11.95,  16.96,  -1.6 ,  29.85, -14.5 ,   2.33,\n",
       "         7.39,  24.  ,   9.83,  -0.6 , -16.41,   4.73,  -6.14,   5.11,\n",
       "        -9.28,   0.55,   0.72,   5.42,   8.04,  -5.4 ,  -6.27,   2.5 ,\n",
       "         7.39,  11.44,  -4.62,  16.54,   3.15,   6.99,   9.67,  -1.99,\n",
       "         5.91,   7.61,   4.46,  10.85,   5.27,   0.85,  10.8 ,   6.02,\n",
       "         1.89,  -2.45,   7.22,   2.01,  16.08,  -0.43,  12.79,  -8.59,\n",
       "         0.32,  14.75,  14.9 ,  -8.83,   6.07,  -3.98,  20.89,  18.32,\n",
       "        -4.55,  13.43,  10.73,  11.15,   6.07,  -0.54,   1.18,   4.69])"
      ]
     },
     "execution_count": 106,
     "metadata": {},
     "output_type": "execute_result"
    }
   ],
   "source": [
    "def error_vec(data, beta0, beta1, beta2, beta3):\n",
    "    \n",
    "    dat_mom_array = data[:,0]\n",
    "    mod_mom_array = model_moments(data, beta0, beta1, beta2, beta3)\n",
    "    err_vec = mod_mom_array - dat_mom_array\n",
    "    \n",
    "    return err_vec\n",
    "\n",
    "err_vec_array = error_vec(data_array, -1, -1, 2, 1)\n",
    "err_vec_array"
   ]
  },
  {
   "cell_type": "code",
   "execution_count": 94,
   "metadata": {
    "collapsed": true
   },
   "outputs": [],
   "source": [
    "def criterion(params, *args):\n",
    "    beta0, beta1, beta2, beta3 = params\n",
    "    data, W = args\n",
    "    err_vec_array = error_vec(data_array, beta0, beta1, beta2, beta3)\n",
    "    crit_val = np.dot(np.dot(err_vec_array.T, W), err_vec_array) \n",
    "    \n",
    "    return crit_val"
   ]
  },
  {
   "cell_type": "code",
   "execution_count": 102,
   "metadata": {
    "collapsed": false
   },
   "outputs": [
    {
     "name": "stdout",
     "output_type": "stream",
     "text": [
      "beta0_GMM= 0.25164447235 beta1_GMM= 0.0129333849031 beta2_GMM= 0.400501883538 beta3_GMM= -0.0099916546916\n",
      "beta0_init= -1 beta1_init= -1 beta2_init= 2 beta3_init= 1\n"
     ]
    }
   ],
   "source": [
    "beta0_init, beta1_init, beta2_init, beta3_init = (-1,-1, 2, 1)\n",
    "params_init = np.array([beta0_init, beta1_init, beta2_init, beta3_init])\n",
    "W_hat = np.eye(200)\n",
    "gmm_args = (data_array, W_hat)\n",
    "results = opt.minimize(criterion, params_init, args=(gmm_args),\n",
    "                       method='SLSQP')\n",
    "beta0_GMM, beta1_GMM, beta2_GMM, beta3_GMM = results.x\n",
    "print('beta0_GMM=', beta0_GMM, 'beta1_GMM=', beta1_GMM, 'beta2_GMM=', beta2_GMM, 'beta3_GMM=', beta3_GMM)\n",
    "print('beta0_init=', beta0_init, 'beta1_init=', beta1_init, 'beta2_init=', beta2_init, 'beta3_init=', beta3_init)"
   ]
  },
  {
   "cell_type": "code",
   "execution_count": 103,
   "metadata": {
    "collapsed": false
   },
   "outputs": [
    {
     "data": {
      "text/plain": [
       "     fun: 0.0018212898913348983\n",
       "     jac: array([  1.55335438e-05,   2.38940325e-03,   6.99157099e-05,\n",
       "         2.61543067e-03,   0.00000000e+00])\n",
       " message: 'Optimization terminated successfully.'\n",
       "    nfev: 51\n",
       "     nit: 6\n",
       "    njev: 6\n",
       "  status: 0\n",
       " success: True\n",
       "       x: array([ 0.25164447,  0.01293338,  0.40050188, -0.00999165])"
      ]
     },
     "execution_count": 103,
     "metadata": {},
     "output_type": "execute_result"
    }
   ],
   "source": [
    "results"
   ]
  },
  {
   "cell_type": "code",
   "execution_count": 107,
   "metadata": {
    "collapsed": false
   },
   "outputs": [
    {
     "name": "stdout",
     "output_type": "stream",
     "text": [
      "Error vector= [  1.90330987e-03   3.37838402e-03   4.53620260e-03   1.01555046e-03\n",
      "   4.30692564e-03   4.55352437e-03  -4.28643647e-03  -1.30867194e-03\n",
      "   5.99667518e-03  -3.51051220e-03   1.39241863e-03   2.25531085e-03\n",
      "  -5.57592812e-03  -2.68948489e-03  -7.20510948e-04   2.38752452e-03\n",
      "   7.60900201e-04  -2.72616303e-03  -1.92253831e-03   3.12492165e-03\n",
      "  -2.72171936e-03   2.52947515e-03  -3.59769757e-03  -4.05896403e-03\n",
      "   3.98036941e-03  -1.67510835e-03  -2.18773987e-03   3.21600214e-03\n",
      "   2.48003624e-03   1.49585731e-03  -1.34350171e-03  -2.40996438e-03\n",
      "   6.00644502e-04   2.02594525e-03   1.41430335e-03   6.12658595e-03\n",
      "  -5.15322891e-03   3.64279185e-03   1.95511701e-03  -1.69502702e-03\n",
      "   5.08131816e-03  -1.03410453e-03  -7.27113133e-04   4.06000746e-03\n",
      "  -3.81622546e-03   2.65249436e-03   6.83331528e-04   1.31809601e-03\n",
      "   3.14240856e-03   4.07459977e-03   2.95884168e-03  -3.45250913e-03\n",
      "  -4.87376279e-03  -1.21456452e-03   2.33716075e-03   3.64037033e-03\n",
      "  -5.93309260e-03   1.51898434e-03  -9.06568406e-06   3.21718012e-03\n",
      "  -2.48500639e-03   2.25939216e-03   2.02553060e-03   2.97313278e-04\n",
      "   1.84751840e-03   1.08335948e-03   1.88814578e-04  -2.26194290e-03\n",
      "  -1.12856609e-04  -4.88242446e-03   1.38468480e-04  -3.52490616e-03\n",
      "   2.88961525e-04   1.20694321e-03  -1.51532358e-03  -1.92496590e-03\n",
      "  -1.19641247e-03   4.73956970e-03   2.38153470e-03  -1.65787900e-03\n",
      "  -4.98516747e-03   3.53385131e-03  -6.42059527e-04  -3.06686393e-03\n",
      "   3.58137603e-03  -2.88500076e-03   4.92246872e-03   2.55368886e-03\n",
      "  -4.60575184e-03   3.78272481e-03  -1.48475240e-03   4.38065968e-03\n",
      "   1.51776649e-03   5.48230235e-05  -4.33476520e-03  -2.58569165e-04\n",
      "  -8.02325622e-04   8.70780573e-04   2.84431584e-03  -4.10245378e-03\n",
      "  -2.99338723e-03  -6.03518045e-03  -3.19791146e-03  -1.90540059e-03\n",
      "   3.30058369e-03  -3.80328448e-03  -5.93872594e-03  -3.22733568e-03\n",
      "  -4.80304077e-03   3.72770919e-03   3.67201616e-03   3.32307150e-03\n",
      "  -8.32992540e-04  -3.99630761e-03  -1.50563942e-03   4.53211769e-04\n",
      "  -2.72420317e-03  -2.08002208e-03  -4.71269675e-03   1.63025679e-03\n",
      "  -3.86380330e-03  -2.06375298e-03  -3.16454006e-03   6.14289315e-03\n",
      "   4.27107091e-03   3.62499371e-03   5.46392488e-04   9.72732518e-04\n",
      "  -4.54644116e-03  -8.50941124e-04  -3.91814704e-03   1.17179665e-03\n",
      "  -1.10201636e-03  -2.61870818e-03   2.31263457e-03  -6.09361043e-04\n",
      "   4.72646172e-03  -2.87489107e-04  -5.91935535e-03   5.32149282e-04\n",
      "   5.54125917e-03   4.91198134e-04   3.86952052e-04   2.98199047e-04\n",
      "  -1.32464345e-03  -8.11371708e-04  -5.52273111e-04   3.53141210e-03\n",
      "   3.14927202e-03  -1.58432113e-03   1.64593945e-03  -2.94085782e-03\n",
      "   4.54314558e-04  -7.80619257e-04   6.34369175e-04  -2.11463533e-03\n",
      "  -2.78217314e-03  -1.95048868e-03  -3.27611995e-04  -1.52109411e-03\n",
      "   4.73524925e-03  -2.05393788e-03   2.55116377e-03  -6.45619031e-04\n",
      "  -6.73550221e-04   3.58092599e-03   4.43692866e-03  -3.35432755e-03\n",
      "   1.56102580e-03  -2.02076049e-03  -4.15901345e-03  -5.61267769e-03\n",
      "   2.59457582e-03  -1.20073347e-03   1.38279945e-03   2.63220286e-03\n",
      "  -7.42141042e-04  -2.21328811e-03  -2.30662837e-04  -4.62465273e-03\n",
      "   1.90813544e-03   6.46747552e-03   4.58099196e-03   4.30338801e-03\n",
      "  -3.85424034e-03   4.31229721e-04  -1.20232188e-03   3.40859867e-03\n",
      "  -1.09767883e-03  -1.71924331e-03   3.38761216e-03  -3.50727776e-04\n",
      "  -2.42164624e-03   2.74526995e-03  -2.95947267e-03  -3.99139112e-03\n",
      "   1.02049602e-03   2.78476313e-03   1.36900617e-03  -2.78795971e-03]\n"
     ]
    }
   ],
   "source": [
    "err = error_vec(data_array, beta0_GMM, beta1_GMM, beta2_GMM, beta3_GMM).reshape(200,)\n",
    "print('Error vector=', err)"
   ]
  },
  {
   "cell_type": "code",
   "execution_count": null,
   "metadata": {
    "collapsed": true
   },
   "outputs": [],
   "source": []
  }
 ],
 "metadata": {
  "anaconda-cloud": {},
  "kernelspec": {
   "display_name": "Python [Root]",
   "language": "python",
   "name": "Python [Root]"
  },
  "language_info": {
   "codemirror_mode": {
    "name": "ipython",
    "version": 3
   },
   "file_extension": ".py",
   "mimetype": "text/x-python",
   "name": "python",
   "nbconvert_exporter": "python",
   "pygments_lexer": "ipython3",
   "version": "3.5.2"
  }
 },
 "nbformat": 4,
 "nbformat_minor": 0
}
